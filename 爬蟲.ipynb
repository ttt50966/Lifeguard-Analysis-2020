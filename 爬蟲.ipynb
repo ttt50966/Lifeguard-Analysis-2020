{
  "cells": [
    {
      "cell_type": "code",
      "source": [
        "import pandas as pd\n",
        "import matplotlib.pyplot as plt\n",
        "import numpy as np\n",
        "from ipywidgets import IntProgress, Layout\n",
        "import ipywidgets as widgets\n",
        "from IPython.display import display\n",
        "from IPython.display import clear_output\n",
        "import matplotlib as mpl\n",
        "import locale\n",
        "mpl.rc(\"font\", family = \"Noto Sans CJK TC\")\n",
        "import time"
      ],
      "outputs": [],
      "execution_count": 1,
      "metadata": {
        "collapsed": false,
        "outputHidden": false,
        "inputHidden": false
      }
    },
    {
      "cell_type": "markdown",
      "source": [
        "# 水協 游泳池 資料統計"
      ],
      "metadata": {}
    },
    {
      "cell_type": "code",
      "source": [
        "page = 399\n",
        "水協_生肉 = pd.DataFrame()\n",
        "for i in range(1,page+1):\n",
        "    url = \"http://www.lifeguard.utaipei.edu.tw/D022.php?cid=49&keys=&r1=&page=%d\" %(i)\n",
        "    data = pd.read_html(url)\n",
        "    水協_生肉 = 水協_生肉.append(data[0][1:],ignore_index = True)\n",
        "    time.sleep(0.5)\n",
        "print(\"爬完\")"
      ],
      "outputs": [
        {
          "output_type": "stream",
          "name": "stdout",
          "text": [
            "爬完\n"
          ]
        }
      ],
      "execution_count": 2,
      "metadata": {
        "collapsed": false,
        "outputHidden": false,
        "inputHidden": false
      }
    },
    {
      "cell_type": "code",
      "source": [
        "水協_生肉.head()"
      ],
      "outputs": [
        {
          "output_type": "execute_result",
          "execution_count": 3,
          "data": {
            "text/plain": [
              "           單位 證照資格   姓名            證照號碼       證照生效日       證照有效日\n",
              "0  中華民國水上救生協會  游泳池  高Ｏ姮  水協字第RSP190181號  2019-12-19  2022-12-18\n",
              "1  中華民國水上救生協會  游泳池  邱Ｏ傑  水協字第RSP190067號  2019-12-11  2022-12-10\n",
              "2  中華民國水上救生協會  游泳池  范Ｏ硯  水協字第RSP190071號  2019-12-11  2022-12-10\n",
              "3  中華民國水上救生協會  游泳池  王Ｏ樹  水協字第RSP190142號  2019-12-11  2022-12-10\n",
              "4  中華民國水上救生協會  游泳池  簡Ｏ庭  水協字第RSP190175號  2019-11-19  2022-11-18"
            ],
            "text/html": [
              "<div>\n",
              "<style scoped>\n",
              "    .dataframe tbody tr th:only-of-type {\n",
              "        vertical-align: middle;\n",
              "    }\n",
              "\n",
              "    .dataframe tbody tr th {\n",
              "        vertical-align: top;\n",
              "    }\n",
              "\n",
              "    .dataframe thead th {\n",
              "        text-align: right;\n",
              "    }\n",
              "</style>\n",
              "<table border=\"1\" class=\"dataframe\">\n",
              "  <thead>\n",
              "    <tr style=\"text-align: right;\">\n",
              "      <th></th>\n",
              "      <th>單位</th>\n",
              "      <th>證照資格</th>\n",
              "      <th>姓名</th>\n",
              "      <th>證照號碼</th>\n",
              "      <th>證照生效日</th>\n",
              "      <th>證照有效日</th>\n",
              "    </tr>\n",
              "  </thead>\n",
              "  <tbody>\n",
              "    <tr>\n",
              "      <td>0</td>\n",
              "      <td>中華民國水上救生協會</td>\n",
              "      <td>游泳池</td>\n",
              "      <td>高Ｏ姮</td>\n",
              "      <td>水協字第RSP190181號</td>\n",
              "      <td>2019-12-19</td>\n",
              "      <td>2022-12-18</td>\n",
              "    </tr>\n",
              "    <tr>\n",
              "      <td>1</td>\n",
              "      <td>中華民國水上救生協會</td>\n",
              "      <td>游泳池</td>\n",
              "      <td>邱Ｏ傑</td>\n",
              "      <td>水協字第RSP190067號</td>\n",
              "      <td>2019-12-11</td>\n",
              "      <td>2022-12-10</td>\n",
              "    </tr>\n",
              "    <tr>\n",
              "      <td>2</td>\n",
              "      <td>中華民國水上救生協會</td>\n",
              "      <td>游泳池</td>\n",
              "      <td>范Ｏ硯</td>\n",
              "      <td>水協字第RSP190071號</td>\n",
              "      <td>2019-12-11</td>\n",
              "      <td>2022-12-10</td>\n",
              "    </tr>\n",
              "    <tr>\n",
              "      <td>3</td>\n",
              "      <td>中華民國水上救生協會</td>\n",
              "      <td>游泳池</td>\n",
              "      <td>王Ｏ樹</td>\n",
              "      <td>水協字第RSP190142號</td>\n",
              "      <td>2019-12-11</td>\n",
              "      <td>2022-12-10</td>\n",
              "    </tr>\n",
              "    <tr>\n",
              "      <td>4</td>\n",
              "      <td>中華民國水上救生協會</td>\n",
              "      <td>游泳池</td>\n",
              "      <td>簡Ｏ庭</td>\n",
              "      <td>水協字第RSP190175號</td>\n",
              "      <td>2019-11-19</td>\n",
              "      <td>2022-11-18</td>\n",
              "    </tr>\n",
              "  </tbody>\n",
              "</table>\n",
              "</div>"
            ]
          },
          "metadata": {}
        }
      ],
      "execution_count": 3,
      "metadata": {
        "collapsed": false,
        "outputHidden": false,
        "inputHidden": false
      }
    },
    {
      "cell_type": "code",
      "source": [
        "string = 水協_生肉.to_csv(index=False)\n",
        "with open(\"水協_游泳池.csv\", 'w') as f:\n",
        "    f.write(string)"
      ],
      "outputs": [],
      "execution_count": 4,
      "metadata": {
        "collapsed": false,
        "outputHidden": false,
        "inputHidden": false
      }
    },
    {
      "cell_type": "markdown",
      "source": [
        "# 水運 游泳池"
      ],
      "metadata": {}
    },
    {
      "cell_type": "code",
      "source": [
        "page = 158\n",
        "水運_生肉 = pd.DataFrame()\n",
        "for i in range(1,page+1):\n",
        "    url = \"http://www.lifeguard.utaipei.edu.tw/D033.php?cid=51&keys=&r1=2&page=%d\" %(i)\n",
        "    data = pd.read_html(url)\n",
        "    水運_生肉 = 水運_生肉.append(data[0][1:],ignore_index = True)\n",
        "    time.sleep(0.5)\n",
        "print(\"爬完\")"
      ],
      "outputs": [
        {
          "output_type": "stream",
          "name": "stdout",
          "text": [
            "爬完\n"
          ]
        }
      ],
      "execution_count": 5,
      "metadata": {
        "collapsed": false,
        "outputHidden": false,
        "inputHidden": false
      }
    },
    {
      "cell_type": "code",
      "source": [
        "水運_生肉.head()"
      ],
      "outputs": [
        {
          "output_type": "execute_result",
          "execution_count": 8,
          "data": {
            "text/plain": [
              "           單位 證照資格   姓名            證照號碼       證照生效日       證照有效日\n",
              "0  中華民國水中運動協會  游泳池  黃Ｏ凱  水運字第RSP190042號  2020-03-01  2023-02-28\n",
              "1  中華民國水中運動協會  游泳池  黃Ｏ章  水運字第RSP190043號  2020-03-01  2023-02-28\n",
              "2  中華民國水中運動協會  游泳池  鄭Ｏ茂  水運字第RSP190045號  2020-03-01  2023-02-28\n",
              "3  中華民國水中運動協會  游泳池  彭Ｏ杰  水運字第RSP190058號  2019-12-30  2022-12-29\n",
              "4  中華民國水中運動協會  游泳池  吳Ｏ欽  水運字第RSP190048號  2019-12-23  2022-12-22"
            ],
            "text/html": [
              "<div>\n",
              "<style scoped>\n",
              "    .dataframe tbody tr th:only-of-type {\n",
              "        vertical-align: middle;\n",
              "    }\n",
              "\n",
              "    .dataframe tbody tr th {\n",
              "        vertical-align: top;\n",
              "    }\n",
              "\n",
              "    .dataframe thead th {\n",
              "        text-align: right;\n",
              "    }\n",
              "</style>\n",
              "<table border=\"1\" class=\"dataframe\">\n",
              "  <thead>\n",
              "    <tr style=\"text-align: right;\">\n",
              "      <th></th>\n",
              "      <th>單位</th>\n",
              "      <th>證照資格</th>\n",
              "      <th>姓名</th>\n",
              "      <th>證照號碼</th>\n",
              "      <th>證照生效日</th>\n",
              "      <th>證照有效日</th>\n",
              "    </tr>\n",
              "  </thead>\n",
              "  <tbody>\n",
              "    <tr>\n",
              "      <td>0</td>\n",
              "      <td>中華民國水中運動協會</td>\n",
              "      <td>游泳池</td>\n",
              "      <td>黃Ｏ凱</td>\n",
              "      <td>水運字第RSP190042號</td>\n",
              "      <td>2020-03-01</td>\n",
              "      <td>2023-02-28</td>\n",
              "    </tr>\n",
              "    <tr>\n",
              "      <td>1</td>\n",
              "      <td>中華民國水中運動協會</td>\n",
              "      <td>游泳池</td>\n",
              "      <td>黃Ｏ章</td>\n",
              "      <td>水運字第RSP190043號</td>\n",
              "      <td>2020-03-01</td>\n",
              "      <td>2023-02-28</td>\n",
              "    </tr>\n",
              "    <tr>\n",
              "      <td>2</td>\n",
              "      <td>中華民國水中運動協會</td>\n",
              "      <td>游泳池</td>\n",
              "      <td>鄭Ｏ茂</td>\n",
              "      <td>水運字第RSP190045號</td>\n",
              "      <td>2020-03-01</td>\n",
              "      <td>2023-02-28</td>\n",
              "    </tr>\n",
              "    <tr>\n",
              "      <td>3</td>\n",
              "      <td>中華民國水中運動協會</td>\n",
              "      <td>游泳池</td>\n",
              "      <td>彭Ｏ杰</td>\n",
              "      <td>水運字第RSP190058號</td>\n",
              "      <td>2019-12-30</td>\n",
              "      <td>2022-12-29</td>\n",
              "    </tr>\n",
              "    <tr>\n",
              "      <td>4</td>\n",
              "      <td>中華民國水中運動協會</td>\n",
              "      <td>游泳池</td>\n",
              "      <td>吳Ｏ欽</td>\n",
              "      <td>水運字第RSP190048號</td>\n",
              "      <td>2019-12-23</td>\n",
              "      <td>2022-12-22</td>\n",
              "    </tr>\n",
              "  </tbody>\n",
              "</table>\n",
              "</div>"
            ]
          },
          "metadata": {}
        }
      ],
      "execution_count": 8,
      "metadata": {
        "collapsed": false,
        "outputHidden": false,
        "inputHidden": false
      }
    },
    {
      "cell_type": "code",
      "source": [
        "string = 水運_生肉.to_csv(index=False)\n",
        "with open(\"水運_游泳池.csv\", 'w') as f:\n",
        "    f.write(string)"
      ],
      "outputs": [],
      "execution_count": 7,
      "metadata": {
        "collapsed": false,
        "outputHidden": false,
        "inputHidden": false
      }
    },
    {
      "cell_type": "markdown",
      "source": [
        "# 紅會 游泳池"
      ],
      "metadata": {}
    },
    {
      "cell_type": "code",
      "source": [
        "page= 102\n",
        "紅會_生肉 = pd.DataFrame()\n",
        "for i in range(1,page+1):\n",
        "    url = \"http://www.lifeguard.utaipei.edu.tw/D044.php?cid=21&keys=&r1=2&page=%d\" %(i)\n",
        "    data = pd.read_html(url)\n",
        "    紅會_生肉 = 紅會_生肉.append(data[0][1:],ignore_index = True)\n",
        "    time.sleep(0.5)\n",
        "print(\"爬完\")"
      ],
      "outputs": [
        {
          "output_type": "stream",
          "name": "stdout",
          "text": [
            "爬完\n"
          ]
        }
      ],
      "execution_count": 9,
      "metadata": {
        "collapsed": false,
        "outputHidden": false,
        "inputHidden": false
      }
    },
    {
      "cell_type": "code",
      "source": [
        "紅會_生肉.head()"
      ],
      "outputs": [
        {
          "output_type": "execute_result",
          "execution_count": 11,
          "data": {
            "text/plain": [
              "           單位 證照資格   姓名         證照號碼       證照生效日       證照有效日\n",
              "0  中華民國紅十字會總會  游泳池  邱Ｏ源  紅會字第190094號  2019-11-23  2022-11-22\n",
              "1  中華民國紅十字會總會  游泳池  龔Ｏ誠  紅會字第190095號  2019-11-23  2022-11-22\n",
              "2  中華民國紅十字會總會  游泳池  謝Ｏ涓  紅會字第190096號  2019-11-23  2022-11-22\n",
              "3  中華民國紅十字會總會  游泳池  謝Ｏ璟  紅會字第190097號  2019-11-23  2022-11-22\n",
              "4  中華民國紅十字會總會  游泳池  林Ｏ斌  紅會字第190098號  2019-11-23  2022-11-22"
            ],
            "text/html": [
              "<div>\n",
              "<style scoped>\n",
              "    .dataframe tbody tr th:only-of-type {\n",
              "        vertical-align: middle;\n",
              "    }\n",
              "\n",
              "    .dataframe tbody tr th {\n",
              "        vertical-align: top;\n",
              "    }\n",
              "\n",
              "    .dataframe thead th {\n",
              "        text-align: right;\n",
              "    }\n",
              "</style>\n",
              "<table border=\"1\" class=\"dataframe\">\n",
              "  <thead>\n",
              "    <tr style=\"text-align: right;\">\n",
              "      <th></th>\n",
              "      <th>單位</th>\n",
              "      <th>證照資格</th>\n",
              "      <th>姓名</th>\n",
              "      <th>證照號碼</th>\n",
              "      <th>證照生效日</th>\n",
              "      <th>證照有效日</th>\n",
              "    </tr>\n",
              "  </thead>\n",
              "  <tbody>\n",
              "    <tr>\n",
              "      <td>0</td>\n",
              "      <td>中華民國紅十字會總會</td>\n",
              "      <td>游泳池</td>\n",
              "      <td>邱Ｏ源</td>\n",
              "      <td>紅會字第190094號</td>\n",
              "      <td>2019-11-23</td>\n",
              "      <td>2022-11-22</td>\n",
              "    </tr>\n",
              "    <tr>\n",
              "      <td>1</td>\n",
              "      <td>中華民國紅十字會總會</td>\n",
              "      <td>游泳池</td>\n",
              "      <td>龔Ｏ誠</td>\n",
              "      <td>紅會字第190095號</td>\n",
              "      <td>2019-11-23</td>\n",
              "      <td>2022-11-22</td>\n",
              "    </tr>\n",
              "    <tr>\n",
              "      <td>2</td>\n",
              "      <td>中華民國紅十字會總會</td>\n",
              "      <td>游泳池</td>\n",
              "      <td>謝Ｏ涓</td>\n",
              "      <td>紅會字第190096號</td>\n",
              "      <td>2019-11-23</td>\n",
              "      <td>2022-11-22</td>\n",
              "    </tr>\n",
              "    <tr>\n",
              "      <td>3</td>\n",
              "      <td>中華民國紅十字會總會</td>\n",
              "      <td>游泳池</td>\n",
              "      <td>謝Ｏ璟</td>\n",
              "      <td>紅會字第190097號</td>\n",
              "      <td>2019-11-23</td>\n",
              "      <td>2022-11-22</td>\n",
              "    </tr>\n",
              "    <tr>\n",
              "      <td>4</td>\n",
              "      <td>中華民國紅十字會總會</td>\n",
              "      <td>游泳池</td>\n",
              "      <td>林Ｏ斌</td>\n",
              "      <td>紅會字第190098號</td>\n",
              "      <td>2019-11-23</td>\n",
              "      <td>2022-11-22</td>\n",
              "    </tr>\n",
              "  </tbody>\n",
              "</table>\n",
              "</div>"
            ]
          },
          "metadata": {}
        }
      ],
      "execution_count": 11,
      "metadata": {
        "collapsed": false,
        "outputHidden": false,
        "inputHidden": false
      }
    },
    {
      "cell_type": "code",
      "source": [
        "string = 紅會_生肉.to_csv(index=False)\n",
        "with open(\"紅會_游泳池.csv\", 'w') as f:\n",
        "    f.write(string)"
      ],
      "outputs": [],
      "execution_count": 10,
      "metadata": {
        "collapsed": false,
        "outputHidden": false,
        "inputHidden": false
      }
    },
    {
      "cell_type": "markdown",
      "source": [
        "# 海爆 游泳池"
      ],
      "metadata": {}
    },
    {
      "cell_type": "code",
      "source": [
        "page= 157\n",
        "海爆_生肉 = pd.DataFrame()\n",
        "for i in range(1,page+1):\n",
        "    url = \"http://www.lifeguard.utaipei.edu.tw/D055.php?cid=50&keys=&r1=2&page=%d\" %(i)\n",
        "    data = pd.read_html(url)\n",
        "    海爆_生肉 = 海爆_生肉.append(data[0][1:],ignore_index = True)\n",
        "    time.sleep(0.5)\n",
        "print(\"爬完\")"
      ],
      "outputs": [
        {
          "output_type": "stream",
          "name": "stdout",
          "text": [
            "爬完\n"
          ]
        }
      ],
      "execution_count": 12,
      "metadata": {
        "collapsed": false,
        "outputHidden": false,
        "inputHidden": false
      }
    },
    {
      "cell_type": "code",
      "source": [
        "string = 海爆_生肉.to_csv(index=False)\n",
        "with open(\"海爆_游泳池.csv\", 'w') as f:\n",
        "    f.write(string)"
      ],
      "outputs": [],
      "execution_count": 13,
      "metadata": {
        "collapsed": false,
        "outputHidden": false,
        "inputHidden": false
      }
    },
    {
      "cell_type": "markdown",
      "source": [
        "# 泳救 游泳池"
      ],
      "metadata": {}
    },
    {
      "cell_type": "code",
      "source": [
        "page= 107\n",
        "泳救_生肉 = pd.DataFrame()\n",
        "for i in range(1,page+1):\n",
        "    url = \"http://www.lifeguard.utaipei.edu.tw/D066.php?cid=52&keys=&r1=2&page=%d\" %(i)\n",
        "    data = pd.read_html(url)\n",
        "    泳救_生肉 = 泳救_生肉.append(data[0][1:],ignore_index = True)\n",
        "    time.sleep(0.5)\n",
        "string = 泳救_生肉.to_csv(index=False)\n",
        "with open(\"泳救_游泳池.csv\", 'w') as f:\n",
        "    f.write(string)"
      ],
      "outputs": [],
      "execution_count": 14,
      "metadata": {
        "collapsed": false,
        "outputHidden": false,
        "inputHidden": false
      }
    },
    {
      "cell_type": "markdown",
      "source": [
        "# 海總 游泳池"
      ],
      "metadata": {}
    },
    {
      "cell_type": "code",
      "source": [
        "page= 31\n",
        "海總_生肉 = pd.DataFrame()\n",
        "for i in range(1,page+1):\n",
        "    url = \"http://www.lifeguard.utaipei.edu.tw/D077.php?cid=53&keys=&r1=2&page=%d\" %(i)\n",
        "    data = pd.read_html(url)\n",
        "    海總_生肉 = 海總_生肉.append(data[0][1:],ignore_index = True)\n",
        "    time.sleep(0.5)\n",
        "string = 海總_生肉.to_csv(index=False)\n",
        "with open(\"海總_游泳池.csv\", 'w') as f:\n",
        "    f.write(string)"
      ],
      "outputs": [],
      "execution_count": 15,
      "metadata": {
        "collapsed": false,
        "outputHidden": false,
        "inputHidden": false
      }
    },
    {
      "cell_type": "markdown",
      "source": [
        "# 輔英 游泳池"
      ],
      "metadata": {}
    },
    {
      "cell_type": "code",
      "source": [
        "page= 3\n",
        "輔英_生肉 = pd.DataFrame()\n",
        "for i in range(1,page+1):\n",
        "    url = \"http://www.lifeguard.utaipei.edu.tw/D088.php?cid=150&keys=&r1=2&page=%d\" %(i)\n",
        "    data = pd.read_html(url)\n",
        "    輔英_生肉 = 輔英_生肉.append(data[0][1:],ignore_index = True)\n",
        "    time.sleep(0.5)\n",
        "string = 輔英_生肉.to_csv(index=False)\n",
        "with open(\"輔英_游泳池.csv\", 'w') as f:\n",
        "    f.write(string)"
      ],
      "outputs": [],
      "execution_count": 16,
      "metadata": {
        "collapsed": false,
        "outputHidden": false,
        "inputHidden": false
      }
    },
    {
      "cell_type": "markdown",
      "source": [
        "# 海龍 游泳池"
      ],
      "metadata": {}
    },
    {
      "cell_type": "code",
      "source": [
        "page= 25\n",
        "海龍_生肉 = pd.DataFrame()\n",
        "for i in range(1,page+1):\n",
        "    url = \"http://www.lifeguard.utaipei.edu.tw/D099.php?cid=135&keys=&r1=2&page=%d\" %(i)\n",
        "    data = pd.read_html(url)\n",
        "    海龍_生肉 = 海龍_生肉.append(data[0][1:],ignore_index = True)\n",
        "    time.sleep(0.5)\n",
        "string = 海龍_生肉.to_csv(index=False)\n",
        "with open(\"海龍_游泳池.csv\", 'w') as f:\n",
        "    f.write(string)"
      ],
      "outputs": [],
      "execution_count": 17,
      "metadata": {
        "collapsed": false,
        "outputHidden": false,
        "inputHidden": false
      }
    },
    {
      "cell_type": "markdown",
      "source": [
        "# 水域 游泳池"
      ],
      "metadata": {}
    },
    {
      "cell_type": "code",
      "source": [
        "page= 33\n",
        "水域_生肉 = pd.DataFrame()\n",
        "for i in range(1,page+1):\n",
        "    url = \"http://www.lifeguard.utaipei.edu.tw/D100.php?cid=136&keys=&r1=2&page=%d\" %(i)\n",
        "    data = pd.read_html(url)\n",
        "    水域_生肉 = 水域_生肉.append(data[0][1:],ignore_index = True)\n",
        "    time.sleep(0.5)\n",
        "string = 水域_生肉.to_csv(index=False)\n",
        "with open(\"水域_游泳池.csv\", 'w') as f:\n",
        "    f.write(string)"
      ],
      "outputs": [],
      "execution_count": 18,
      "metadata": {
        "collapsed": false,
        "outputHidden": false,
        "inputHidden": false
      }
    },
    {
      "cell_type": "markdown",
      "source": [
        "# 慧救 游泳池"
      ],
      "metadata": {}
    },
    {
      "cell_type": "code",
      "source": [
        "page= 11\n",
        "慧救_生肉 = pd.DataFrame()\n",
        "for i in range(1,page+1):\n",
        "    url = \"http://www.lifeguard.utaipei.edu.tw/D054.php?cid=54&keys=&r1=2&page=%d\" %(i)\n",
        "    data = pd.read_html(url)\n",
        "    慧救_生肉= 慧救_生肉.append(data[0][1:],ignore_index = True)\n",
        "    time.sleep(0.5)\n",
        "string = 慧救_生肉.to_csv(index=False)\n",
        "with open(\"慧救_游泳池.csv\", 'w') as f:\n",
        "    f.write(string)\n"
      ],
      "outputs": [],
      "execution_count": 19,
      "metadata": {
        "collapsed": false,
        "outputHidden": false,
        "inputHidden": false
      }
    },
    {
      "cell_type": "code",
      "source": [],
      "outputs": [],
      "execution_count": null,
      "metadata": {
        "collapsed": false,
        "outputHidden": false,
        "inputHidden": false
      }
    }
  ],
  "metadata": {
    "kernel_info": {
      "name": "python3"
    },
    "language_info": {
      "name": "python",
      "version": "3.7.4",
      "mimetype": "text/x-python",
      "codemirror_mode": {
        "name": "ipython",
        "version": 3
      },
      "pygments_lexer": "ipython3",
      "nbconvert_exporter": "python",
      "file_extension": ".py"
    },
    "kernelspec": {
      "name": "python3",
      "language": "python",
      "display_name": "Python 3"
    },
    "nteract": {
      "version": "0.15.0"
    }
  },
  "nbformat": 4,
  "nbformat_minor": 0
}